{
 "cells": [
  {
   "cell_type": "markdown",
   "metadata": {},
   "source": [
    "# Regressão logistica\n",
    "\n",
    "Este notebook especifica um treino muito básico, usando uma regressão logística, similar ao que já terão encontrado ao longo do curso."
   ]
  },
  {
   "cell_type": "code",
   "execution_count": null,
   "metadata": {
    "id": "Tf8XGYV5zbsP"
   },
   "outputs": [],
   "source": [
    "import pandas as pd\n",
    "from sklearn.metrics import accuracy_score\n",
    "from sklearn.linear_model import LogisticRegression"
   ]
  },
  {
   "cell_type": "code",
   "execution_count": null,
   "metadata": {},
   "outputs": [],
   "source": [
    "ROOT_PATH = '../../data/'\n",
    "SEED = 42\n",
    "TARGET_COL = \"Outcome\""
   ]
  },
  {
   "cell_type": "code",
   "execution_count": null,
   "metadata": {
    "scrolled": true
   },
   "outputs": [],
   "source": [
    "train_path = ROOT_PATH + 'diabetes_train.csv'\n",
    "test_path = ROOT_PATH + 'diabetes_test.csv'\n",
    "\n",
    "train_set = pd.read_csv(train_path)\n",
    "test_set = pd.read_csv(test_path)\n",
    "\n",
    "X_train = train_set.drop([TARGET_COL], axis = 1)\n",
    "y_train = train_set[TARGET_COL]\n",
    "\n",
    "X_test = test_set.drop([TARGET_COL], axis = 1)\n",
    "y_test = test_set[TARGET_COL]\n",
    "\n",
    "X_train.head()"
   ]
  },
  {
   "cell_type": "code",
   "execution_count": null,
   "metadata": {
    "id": "6MzRYWGj0WLx"
   },
   "outputs": [],
   "source": [
    "logistic_reg = LogisticRegression(random_state = SEED, C=1)\n",
    "lr = logistic_reg.fit(X_train, y_train)\n",
    "lr"
   ]
  },
  {
   "cell_type": "code",
   "execution_count": null,
   "metadata": {},
   "outputs": [],
   "source": [
    "lr.get_params()"
   ]
  },
  {
   "cell_type": "code",
   "execution_count": null,
   "metadata": {
    "id": "HICyzOTi1FJH"
   },
   "outputs": [],
   "source": [
    "y_preds = lr.predict(X_test)\n",
    "acc = accuracy_score(y_test, y_preds)\n",
    "acc"
   ]
  },
  {
   "cell_type": "code",
   "execution_count": null,
   "metadata": {},
   "outputs": [],
   "source": []
  }
 ],
 "metadata": {
  "colab": {
   "collapsed_sections": [],
   "name": "09_random_forests.ipynb",
   "provenance": []
  },
  "kernelspec": {
   "display_name": "OML",
   "language": "python",
   "name": "python3"
  },
  "language_info": {
   "codemirror_mode": {
    "name": "ipython",
    "version": 3
   },
   "file_extension": ".py",
   "mimetype": "text/x-python",
   "name": "python",
   "nbconvert_exporter": "python",
   "pygments_lexer": "ipython3",
   "version": "3.12.2"
  }
 },
 "nbformat": 4,
 "nbformat_minor": 4
}
