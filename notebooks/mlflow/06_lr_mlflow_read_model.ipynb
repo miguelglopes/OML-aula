{
 "cells": [
  {
   "cell_type": "markdown",
   "metadata": {},
   "source": [
    "# Vamos utilizar o mlflow para ler a nossa model pipeline\n",
    "\n",
    "Neste notebook iremos utilizar a pipeline que registamos no notebook anterior para fazer previsões."
   ]
  },
  {
   "cell_type": "code",
   "execution_count": null,
   "metadata": {},
   "outputs": [],
   "source": [
    "import mlflow\n",
    "import pandas as pd"
   ]
  },
  {
   "cell_type": "code",
   "execution_count": null,
   "metadata": {},
   "outputs": [],
   "source": [
    "from pathlib import Path\n",
    "\n",
    "uri = \"../../mlruns\"\n",
    "\n",
    "Path(uri).mkdir(parents=True, exist_ok=True)\n",
    "\n",
    "mlflow.set_tracking_uri(uri)\n"
   ]
  },
  {
   "cell_type": "code",
   "execution_count": null,
   "metadata": {},
   "outputs": [],
   "source": [
    "# Fazer load da versão 1 do modelo \"logistic_regression\" que registamos no notebook anterior\n",
    "# Têm de mudar a versão de acordo com quantas versões registaram.\n",
    "\n",
    "model_name = \"logistic_reg\"\n",
    "model_version = \"champion\"\n",
    "\n",
    "model = mlflow.pyfunc.load_model(f\"models:/{model_name}@{model_version}\")\n",
    "model"
   ]
  },
  {
   "cell_type": "markdown",
   "metadata": {},
   "source": [
    "## Vamos utilizar o modelo lido para fazer previsões"
   ]
  },
  {
   "cell_type": "code",
   "execution_count": null,
   "metadata": {},
   "outputs": [],
   "source": [
    "data_path = '../../data/diabetes_test.csv'\n",
    "df = pd.read_csv(data_path)"
   ]
  },
  {
   "cell_type": "code",
   "execution_count": null,
   "metadata": {},
   "outputs": [],
   "source": [
    "input_data = df.loc[df.Outcome == 1].sample(10)\n",
    "input_data"
   ]
  },
  {
   "cell_type": "code",
   "execution_count": null,
   "metadata": {},
   "outputs": [],
   "source": [
    "model.predict(input_data.drop(\"Outcome\", axis=1))"
   ]
  },
  {
   "cell_type": "code",
   "execution_count": null,
   "metadata": {},
   "outputs": [],
   "source": []
  }
 ],
 "metadata": {
  "colab": {
   "collapsed_sections": [],
   "name": "09_random_forests.ipynb",
   "provenance": []
  },
  "kernelspec": {
   "display_name": "OML",
   "language": "python",
   "name": "python3"
  },
  "language_info": {
   "codemirror_mode": {
    "name": "ipython",
    "version": 3
   },
   "file_extension": ".py",
   "mimetype": "text/x-python",
   "name": "python",
   "nbconvert_exporter": "python",
   "pygments_lexer": "ipython3",
   "version": "3.12.2"
  }
 },
 "nbformat": 4,
 "nbformat_minor": 0
}
